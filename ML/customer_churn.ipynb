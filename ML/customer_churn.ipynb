{
 "cells": [
  {
   "cell_type": "code",
   "execution_count": 7,
   "id": "ea1794f4-493a-470c-910f-1cf6a4912112",
   "metadata": {
    "editable": true,
    "slideshow": {
     "slide_type": ""
    },
    "tags": []
   },
   "outputs": [],
   "source": [
    "#importing needed libraries\n",
    "import pandas as pd\n",
    "import numpy as np\n",
    "import matplotlib.pyplot as plb\n",
    "import seaborn as sns\n",
    "from sklearn.model_selection import train_test_split,StratifiedShuffleSplit\n",
    "from sklearn.metrics import f1_score,classification_report,precision_recall_fscore_support\n",
    "from sklearn.linear_model import LogisticRegression,LogisticRegressionCV\n",
    "from sklearn.neighbors import KNeighborsClassifier"
   ]
  },
  {
   "cell_type": "code",
   "execution_count": 2,
   "id": "23c8e94a-bb59-4939-b332-881954ebbf33",
   "metadata": {},
   "outputs": [],
   "source": [
    "#exclude printing warn messages\n",
    "def warn(*args,**kwargs):\n",
    "     pass\n",
    "import warnings\n",
    "warnings.warn = warn"
   ]
  },
  {
   "cell_type": "code",
   "execution_count": 3,
   "id": "9f1cc37e-815b-4cec-a55f-f62f42decb91",
   "metadata": {},
   "outputs": [],
   "source": [
    "#reading data\n",
    "data=pd.read_csv('churndata_processed.csv')"
   ]
  },
  {
   "cell_type": "code",
   "execution_count": 4,
   "id": "5a2329c7-f31c-4dc3-8b97-0c0d103dff83",
   "metadata": {},
   "outputs": [
    {
     "data": {
      "text/html": [
       "<div>\n",
       "<style scoped>\n",
       "    .dataframe tbody tr th:only-of-type {\n",
       "        vertical-align: middle;\n",
       "    }\n",
       "\n",
       "    .dataframe tbody tr th {\n",
       "        vertical-align: top;\n",
       "    }\n",
       "\n",
       "    .dataframe thead th {\n",
       "        text-align: right;\n",
       "    }\n",
       "</style>\n",
       "<table border=\"1\" class=\"dataframe\">\n",
       "  <thead>\n",
       "    <tr style=\"text-align: right;\">\n",
       "      <th></th>\n",
       "      <th>months</th>\n",
       "      <th>multiple</th>\n",
       "      <th>gb_mon</th>\n",
       "      <th>security</th>\n",
       "      <th>backup</th>\n",
       "      <th>protection</th>\n",
       "      <th>support</th>\n",
       "      <th>unlimited</th>\n",
       "      <th>contract</th>\n",
       "      <th>paperless</th>\n",
       "      <th>...</th>\n",
       "      <th>payment_Credit Card</th>\n",
       "      <th>payment_Mailed Check</th>\n",
       "      <th>internet_type_DSL</th>\n",
       "      <th>internet_type_Fiber Optic</th>\n",
       "      <th>internet_type_None</th>\n",
       "      <th>offer_Offer A</th>\n",
       "      <th>offer_Offer B</th>\n",
       "      <th>offer_Offer C</th>\n",
       "      <th>offer_Offer D</th>\n",
       "      <th>offer_Offer E</th>\n",
       "    </tr>\n",
       "  </thead>\n",
       "  <tbody>\n",
       "    <tr>\n",
       "      <th>6236</th>\n",
       "      <td>1.00</td>\n",
       "      <td>1</td>\n",
       "      <td>0.200000</td>\n",
       "      <td>1</td>\n",
       "      <td>1</td>\n",
       "      <td>1</td>\n",
       "      <td>1</td>\n",
       "      <td>1</td>\n",
       "      <td>1.0</td>\n",
       "      <td>0</td>\n",
       "      <td>...</td>\n",
       "      <td>1</td>\n",
       "      <td>0</td>\n",
       "      <td>1</td>\n",
       "      <td>0</td>\n",
       "      <td>0</td>\n",
       "      <td>1</td>\n",
       "      <td>0</td>\n",
       "      <td>0</td>\n",
       "      <td>0</td>\n",
       "      <td>0</td>\n",
       "    </tr>\n",
       "    <tr>\n",
       "      <th>2200</th>\n",
       "      <td>0.75</td>\n",
       "      <td>1</td>\n",
       "      <td>0.341176</td>\n",
       "      <td>0</td>\n",
       "      <td>0</td>\n",
       "      <td>0</td>\n",
       "      <td>0</td>\n",
       "      <td>1</td>\n",
       "      <td>0.0</td>\n",
       "      <td>0</td>\n",
       "      <td>...</td>\n",
       "      <td>0</td>\n",
       "      <td>0</td>\n",
       "      <td>0</td>\n",
       "      <td>1</td>\n",
       "      <td>0</td>\n",
       "      <td>0</td>\n",
       "      <td>0</td>\n",
       "      <td>0</td>\n",
       "      <td>0</td>\n",
       "      <td>0</td>\n",
       "    </tr>\n",
       "    <tr>\n",
       "      <th>2428</th>\n",
       "      <td>0.00</td>\n",
       "      <td>0</td>\n",
       "      <td>0.082353</td>\n",
       "      <td>0</td>\n",
       "      <td>0</td>\n",
       "      <td>0</td>\n",
       "      <td>0</td>\n",
       "      <td>0</td>\n",
       "      <td>0.0</td>\n",
       "      <td>0</td>\n",
       "      <td>...</td>\n",
       "      <td>0</td>\n",
       "      <td>0</td>\n",
       "      <td>1</td>\n",
       "      <td>0</td>\n",
       "      <td>0</td>\n",
       "      <td>0</td>\n",
       "      <td>0</td>\n",
       "      <td>0</td>\n",
       "      <td>0</td>\n",
       "      <td>0</td>\n",
       "    </tr>\n",
       "    <tr>\n",
       "      <th>238</th>\n",
       "      <td>0.00</td>\n",
       "      <td>0</td>\n",
       "      <td>0.176471</td>\n",
       "      <td>0</td>\n",
       "      <td>0</td>\n",
       "      <td>0</td>\n",
       "      <td>0</td>\n",
       "      <td>1</td>\n",
       "      <td>0.0</td>\n",
       "      <td>0</td>\n",
       "      <td>...</td>\n",
       "      <td>0</td>\n",
       "      <td>0</td>\n",
       "      <td>1</td>\n",
       "      <td>0</td>\n",
       "      <td>0</td>\n",
       "      <td>0</td>\n",
       "      <td>0</td>\n",
       "      <td>0</td>\n",
       "      <td>0</td>\n",
       "      <td>1</td>\n",
       "    </tr>\n",
       "    <tr>\n",
       "      <th>575</th>\n",
       "      <td>0.75</td>\n",
       "      <td>1</td>\n",
       "      <td>0.141176</td>\n",
       "      <td>0</td>\n",
       "      <td>0</td>\n",
       "      <td>0</td>\n",
       "      <td>0</td>\n",
       "      <td>1</td>\n",
       "      <td>0.5</td>\n",
       "      <td>1</td>\n",
       "      <td>...</td>\n",
       "      <td>1</td>\n",
       "      <td>0</td>\n",
       "      <td>0</td>\n",
       "      <td>1</td>\n",
       "      <td>0</td>\n",
       "      <td>0</td>\n",
       "      <td>0</td>\n",
       "      <td>0</td>\n",
       "      <td>0</td>\n",
       "      <td>0</td>\n",
       "    </tr>\n",
       "  </tbody>\n",
       "</table>\n",
       "<p>5 rows × 23 columns</p>\n",
       "</div>"
      ],
      "text/plain": [
       "      months  multiple    gb_mon  security  backup  protection  support  \\\n",
       "6236    1.00         1  0.200000         1       1           1        1   \n",
       "2200    0.75         1  0.341176         0       0           0        0   \n",
       "2428    0.00         0  0.082353         0       0           0        0   \n",
       "238     0.00         0  0.176471         0       0           0        0   \n",
       "575     0.75         1  0.141176         0       0           0        0   \n",
       "\n",
       "      unlimited  contract  paperless  ...  payment_Credit Card  \\\n",
       "6236          1       1.0          0  ...                    1   \n",
       "2200          1       0.0          0  ...                    0   \n",
       "2428          0       0.0          0  ...                    0   \n",
       "238           1       0.0          0  ...                    0   \n",
       "575           1       0.5          1  ...                    1   \n",
       "\n",
       "      payment_Mailed Check  internet_type_DSL  internet_type_Fiber Optic  \\\n",
       "6236                     0                  1                          0   \n",
       "2200                     0                  0                          1   \n",
       "2428                     0                  1                          0   \n",
       "238                      0                  1                          0   \n",
       "575                      0                  0                          1   \n",
       "\n",
       "      internet_type_None  offer_Offer A  offer_Offer B  offer_Offer C  \\\n",
       "6236                   0              1              0              0   \n",
       "2200                   0              0              0              0   \n",
       "2428                   0              0              0              0   \n",
       "238                    0              0              0              0   \n",
       "575                    0              0              0              0   \n",
       "\n",
       "      offer_Offer D  offer_Offer E  \n",
       "6236              0              0  \n",
       "2200              0              0  \n",
       "2428              0              0  \n",
       "238               0              1  \n",
       "575               0              0  \n",
       "\n",
       "[5 rows x 23 columns]"
      ]
     },
     "execution_count": 4,
     "metadata": {},
     "output_type": "execute_result"
    }
   ],
   "source": [
    "data.sample(5)"
   ]
  },
  {
   "cell_type": "code",
   "execution_count": 5,
   "id": "462159c6-d7cc-4c5f-bf59-2119bcff0b50",
   "metadata": {},
   "outputs": [
    {
     "data": {
      "text/plain": [
       "(7043, 23)"
      ]
     },
     "execution_count": 5,
     "metadata": {},
     "output_type": "execute_result"
    }
   ],
   "source": [
    "data.shape"
   ]
  },
  {
   "cell_type": "markdown",
   "id": "f492d3e9-63b9-469c-bb91-264cdc8f2feb",
   "metadata": {},
   "source": [
    "<!-- to turn all columns to lowercase  -->\n",
    "data.columns=data.columns.str.lower()"
   ]
  },
  {
   "cell_type": "code",
   "execution_count": 6,
   "id": "2d5c8949-31c8-4197-b125-d3d2096ca2be",
   "metadata": {},
   "outputs": [
    {
     "ename": "NameError",
     "evalue": "name 'plb' is not defined",
     "output_type": "error",
     "traceback": [
      "\u001b[1;31m---------------------------------------------------------------------------\u001b[0m",
      "\u001b[1;31mNameError\u001b[0m                                 Traceback (most recent call last)",
      "Cell \u001b[1;32mIn[6], line 3\u001b[0m\n\u001b[0;32m      1\u001b[0m \u001b[38;5;66;03m# proportion of people who got an offer\u001b[39;00m\n\u001b[0;32m      2\u001b[0m data\u001b[38;5;241m.\u001b[39mfilter(like\u001b[38;5;241m=\u001b[39m\u001b[38;5;124m'\u001b[39m\u001b[38;5;124moffer\u001b[39m\u001b[38;5;124m'\u001b[39m)\u001b[38;5;241m.\u001b[39msum(\u001b[38;5;241m1\u001b[39m)\u001b[38;5;241m.\u001b[39mvalue_counts(normalize\u001b[38;5;241m=\u001b[39m\u001b[38;5;28;01mTrue\u001b[39;00m)\u001b[38;5;241m.\u001b[39mplot(kind\u001b[38;5;241m=\u001b[39m\u001b[38;5;124m'\u001b[39m\u001b[38;5;124mbar\u001b[39m\u001b[38;5;124m'\u001b[39m)\n\u001b[1;32m----> 3\u001b[0m \u001b[43mplb\u001b[49m\u001b[38;5;241m.\u001b[39mxticks(\u001b[38;5;28mrange\u001b[39m(\u001b[38;5;241m2\u001b[39m),[\u001b[38;5;124m'\u001b[39m\u001b[38;5;124mNo\u001b[39m\u001b[38;5;124m'\u001b[39m,\u001b[38;5;124m'\u001b[39m\u001b[38;5;124mYes\u001b[39m\u001b[38;5;124m'\u001b[39m])\n\u001b[0;32m      4\u001b[0m plb\u001b[38;5;241m.\u001b[39mylim(\u001b[38;5;241m0\u001b[39m,\u001b[38;5;241m1\u001b[39m)\n",
      "\u001b[1;31mNameError\u001b[0m: name 'plb' is not defined"
     ]
    },
    {
     "data": {
      "image/png": "[encoded data removed]",
      "text/plain": [
       "<Figure size 432x288 with 1 Axes>"
      ]
     },
     "metadata": {
      "needs_background": "light"
     },
     "output_type": "display_data"
    }
   ],
   "source": [
    "# proportion of people who got an offer\n",
    "data.filter(like='offer').sum(1).value_counts(normalize=True).plot(kind='bar')\n",
    "plb.xticks(range(2),['No','Yes'])\n",
    "plb.ylim(0,1)"
   ]
  },
  {
   "cell_type": "code",
   "execution_count": null,
   "id": "3b1324f1-eebb-4552-9a2a-c0d47648610f",
   "metadata": {},
   "outputs": [],
   "source": [
    "data.dtypes.value_counts()"
   ]
  },
  {
   "cell_type": "code",
   "execution_count": null,
   "id": "bbac89b4-312a-44d7-b357-d28e812b7fa3",
   "metadata": {},
   "outputs": [],
   "source": [
    "list(range(1,-1,-1))"
   ]
  },
  {
   "cell_type": "code",
   "execution_count": null,
   "id": "9ec53b45-08c7-4707-8258-ee8b35231ed6",
   "metadata": {},
   "outputs": [],
   "source": [
    "# NUmber of people who churned vs not churned\n",
    "data.filter(like='churn').value_counts().plot(kind='bar')\n",
    "plb.xticks(range(1,-1,-1),['Not Churned','Churned'])\n",
    "plb.xlabel('Churn Value')"
   ]
  },
  {
   "cell_type": "code",
   "execution_count": null,
   "id": "61f2f14f-4015-4cc1-9e88-1a23c22bfa4d",
   "metadata": {},
   "outputs": [],
   "source": [
    "data.describe().T"
   ]
  },
  {
   "cell_type": "code",
   "execution_count": null,
   "id": "fb1b9bd2-29b5-4e85-844f-5ca1d8c76baa",
   "metadata": {
    "scrolled": true
   },
   "outputs": [],
   "source": [
    "satisfaction_corr=data.corr()['churn_value'].abs().plot(kind='bar')\n",
    "plb.title('Correlation of Churn Value and other features')"
   ]
  },
  {
   "cell_type": "code",
   "execution_count": null,
   "id": "4ea767f2-24db-4bf0-8fe0-19bb6e243985",
   "metadata": {},
   "outputs": [],
   "source": [
    "\n",
    "trils=zip(*(np.tril_indices_from(data.corr())))\n",
    "data_corr=data.corr()\n",
    "for a in trils: \n",
    "    data_corr.iloc[a[0],a[1]]=np.nan\n",
    "data_corr=data_corr.stack().to_frame().reset_index().rename(columns={'level_0':'f1','level_1':'f1',0:'coef'})\n",
    "data_corr['coef']=np.abs(data_corr['coef'])\n",
    "ax=data_corr['coef'].plot(kind='hist',bins=50)"
   ]
  },
  {
   "cell_type": "code",
   "execution_count": null,
   "id": "7cba6b13-9179-4a77-b323-6124d0eff9b3",
   "metadata": {},
   "outputs": [],
   "source": [
    "X=data.drop('churn_value',axis=1)\n",
    "y=data['churn_value']"
   ]
  },
  {
   "cell_type": "code",
   "execution_count": null,
   "id": "871c732c-e8fb-4a59-88c8-5ce7aa3eb022",
   "metadata": {
    "scrolled": true
   },
   "outputs": [],
   "source": [
    "kf=StratifiedShuffleSplit(n_splits=5,test_size=0.3)\n",
    "for train_index, test_index in kf.split(X, y):\n",
    "    X_train, X_test = X.loc[train_index,:], X.loc[test_index,:]\n",
    "    y_train, y_test = y[train_index], y[test_index]"
   ]
  },
  {
   "cell_type": "code",
   "execution_count": null,
   "id": "58300284-aa5e-4948-9e02-4809c2880fb2",
   "metadata": {},
   "outputs": [],
   "source": [
    "X_train,X_test,y_train,y_test= train_test_split(X,y,test_size=0.3,stratify=y)"
   ]
  },
  {
   "cell_type": "code",
   "execution_count": null,
   "id": "8d648655-6a52-49d5-978e-a62cea435f92",
   "metadata": {},
   "outputs": [],
   "source": [
    "lr=LogisticRegression()"
   ]
  },
  {
   "cell_type": "code",
   "execution_count": null,
   "id": "8b975ced-ccb7-457f-a4bc-b35d1da99040",
   "metadata": {},
   "outputs": [],
   "source": [
    "lr_l1=LogisticRegressionCV(penalty='l1',Cs=[0,1,1,10],random_state=11,cv=kf)"
   ]
  },
  {
   "cell_type": "code",
   "execution_count": null,
   "id": "ee21e385-3474-466f-b738-9db3b1abdef7",
   "metadata": {},
   "outputs": [],
   "source": [
    "lr_l2=LogisticRegressionCV(penalty='l2',Cs=[0.1,1,10],random_state=21,cv=kf)"
   ]
  },
  {
   "cell_type": "code",
   "execution_count": null,
   "id": "facf883d-d675-421c-aba7-bed7be0c31eb",
   "metadata": {},
   "outputs": [],
   "source": [
    "def check_scores(model):\n",
    "    model_coefs=[]\n",
    "    lr__=lr.fit(X_train,y_train)\n",
    "    pred =lr__.predict(X_test)\n",
    "    model_coefs.append(lr__.coef_)\n",
    "    return model_coefs,pred"
   ]
  },
  {
   "cell_type": "code",
   "execution_count": null,
   "id": "cfe03356-4032-4817-bd0d-efdf9897d4c7",
   "metadata": {},
   "outputs": [],
   "source": [
    "models=[lr,lr_l1,lr_l2]\n",
    "model_name=['lr','lr_l1','lr_l2']\n",
    "models_coef={}\n",
    "model_preds={}\n",
    "for name,mod in zip(model_name,models):\n",
    "    models_coef[name],model_preds[name]=check_scores(mod)"
   ]
  },
  {
   "cell_type": "code",
   "execution_count": null,
   "id": "a0439b0f-306b-4ff4-85ed-839c5c42477a",
   "metadata": {},
   "outputs": [],
   "source": [
    "# Dataframing model coefficients\n",
    "mod_coef_df = pd.DataFrame({k:v for k,v in model_preds.items()})\n",
    "mod_coef_df.sample(3)"
   ]
  },
  {
   "cell_type": "code",
   "execution_count": null,
   "id": "9bd8389d-22a9-4e73-8c67-081718789291",
   "metadata": {},
   "outputs": [],
   "source": [
    "y_pred_all=pd.DataFrame(model_preds)"
   ]
  },
  {
   "cell_type": "code",
   "execution_count": null,
   "id": "550fd340-3f6a-474a-8706-a56017023591",
   "metadata": {
    "scrolled": true
   },
   "outputs": [],
   "source": [
    "# Set up subplots\n",
    "fig, (ax, ax1, ax2) = plt.subplots(1, 3, figsize=(15, 5))\n",
    "\n",
    "# Plot and add labels for legend\n",
    "sns.distplot(mod_coef_df['lr'], hist=False, ax=ax, label='lr')\n",
    "sns.distplot(mod_coef_df['lr_l1'], hist=False, ax=ax1, label='lr_l1')\n",
    "sns.distplot(mod_coef_df['lr_l2'], hist=False, ax=ax2, label='lr_l2')\n",
    "\n",
    "# Set plot titles\n",
    "ax.set_title('Kernel Density Estimation for lr')\n",
    "ax1.set_title('Kernel Density Estimation for lr_l1')\n",
    "ax2.set_title('Kernel Density Estimation for lr_l2')\n",
    "\n",
    "# Set common y-axis label\n",
    "plb.ylabel('Density')\n",
    "\n",
    "plb.tight_layout()\n",
    "# Show the plots\n",
    "plb.show()\n"
   ]
  },
  {
   "cell_type": "code",
   "execution_count": null,
   "id": "6b025f47-8f34-41df-b9e9-9ba5e646201c",
   "metadata": {},
   "outputs": [],
   "source": [
    "# logistic Regression confusion matrix\n",
    "cm_lr=confusion_matrix(y_test,mod_coef_df['lr'])\n",
    "cm_lr"
   ]
  },
  {
   "cell_type": "code",
   "execution_count": null,
   "id": "f79e3985-af16-42dc-a9aa-703c5184353d",
   "metadata": {},
   "outputs": [],
   "source": [
    "sns.heatmap(cm_knn,annot=True,fmt='d',xticklabels=['Not Churned', 'Churned'],yticklabels=['Not Churned', 'Churned'])\n",
    "# Add labels to the axes\n",
    "plt.xlabel('Predicted')\n",
    "plt.ylabel('Actual')"
   ]
  },
  {
   "cell_type": "code",
   "execution_count": null,
   "id": "dd34f99d-7dec-4188-bc8c-9c94a2cde314",
   "metadata": {},
   "outputs": [],
   "source": [
    "for lr_pred in y_pred_all:\n",
    "    print(lr_pred,end='\\n\\n')\n",
    "    print(precision_recall_fscore_support(y_test,y_pred_all[lr_pred],average='weighted'),end='\\n\\n')\n",
    "    print(classification_report(y_test,y_pred_all[lr_pred]))"
   ]
  },
  {
   "cell_type": "markdown",
   "id": "0fd3fdde-7ee6-46b1-8336-9a8a61dbea58",
   "metadata": {},
   "source": [
    "The best model to use is the **K Nearest Neighbor** Model which has an average model F1 Score of 95% and model accuracy of 95% "
   ]
  },
  {
   "cell_type": "code",
   "execution_count": null,
   "id": "d7958ced-7e33-4547-9c5d-018ea42f1818",
   "metadata": {},
   "outputs": [],
   "source": [
    "list_=[]\n",
    "for k in range(1,40):\n",
    "    knn_churn=KNeighborsClassifier(n_neighbors=k)\n",
    "\n",
    "    y_pred_knn=knn_churn.fit(X_train,y_train).predict(X_test)\n",
    "\n",
    "    list_.append((k,precision_recall_fscore_support(y_test,y_pred_knn,average='weighted')[2]))"
   ]
  },
  {
   "cell_type": "code",
   "execution_count": null,
   "id": "cc4c5a9d-7b80-445f-af4f-bb4f91b573cd",
   "metadata": {},
   "outputs": [],
   "source": [
    "scores_=pd.DataFrame(list_,columns=['k','F1_Score'])\n",
    "scores_.set_index('k',inplace=True)"
   ]
  },
  {
   "cell_type": "code",
   "execution_count": null,
   "id": "3e313285-281e-4b29-9b8e-4b731660593c",
   "metadata": {},
   "outputs": [],
   "source": [
    "scores_['F1_Score'].idxmax()"
   ]
  },
  {
   "cell_type": "code",
   "execution_count": null,
   "id": "de308f61-5751-4196-b6d4-1f64de4a25d9",
   "metadata": {},
   "outputs": [],
   "source": [
    "# k Graph\n",
    "scores_.plot(marker='.')\n",
    "plb.xticks(range(1,scores_.shape[0],5))\n",
    "plb.show()"
   ]
  },
  {
   "cell_type": "code",
   "execution_count": null,
   "id": "6046d080-99c6-4532-80c8-c3e805fc8610",
   "metadata": {},
   "outputs": [],
   "source": [
    "knn_churn=KNeighborsClassifier(n_neighbors=scores_['F1_Score'].idxmax())\n",
    "y_pred_knn=knn_churn.fit(X_train,y_train).predict(X_test)"
   ]
  },
  {
   "cell_type": "code",
   "execution_count": null,
   "id": "54096672-6ebe-4764-82b3-26a2e7fdc45d",
   "metadata": {},
   "outputs": [],
   "source": [
    "from sklearn.metrics import confusion_matrix"
   ]
  },
  {
   "cell_type": "code",
   "execution_count": null,
   "id": "564ec0f1-f0fa-45f0-9ad1-3b6f4898ecff",
   "metadata": {},
   "outputs": [],
   "source": [
    "y_pred_proba_knn=knn_churn.fit(X_train,y_train).predict_proba (X_test)"
   ]
  },
  {
   "cell_type": "code",
   "execution_count": null,
   "id": "5af4d4e2-8370-4f86-b961-2cd482223672",
   "metadata": {},
   "outputs": [],
   "source": [
    "#KNN confusion matrix\n",
    "cm_knn=confusion_matrix(y_test,y_pred_knn)"
   ]
  },
  {
   "cell_type": "code",
   "execution_count": null,
   "id": "e94a8f40-d485-48fc-8e3d-702f2fde2b00",
   "metadata": {},
   "outputs": [],
   "source": [
    "sns.heatmap(cm_knn,annot=True,fmt='d',xticklabels=['Not Churned', 'Churned'],yticklabels=['Not Churned', 'Churned'])\n",
    "# Add labels to the axes\n",
    "plt.xlabel('Predicted')\n",
    "plt.ylabel('Actual')"
   ]
  },
  {
   "cell_type": "code",
   "execution_count": null,
   "id": "dc02a0b5-9043-471e-9c95-a6bd62a4f534",
   "metadata": {},
   "outputs": [],
   "source": [
    "# Create Dataframe of predicted churn value probability and churn value \n",
    "churn_df=pd.DataFrame(pd.Series(y_pred_knn,y_pred_proba_knn.max(1))).reset_index().rename(columns={'index':'churn_proba', 0:'churn_value'})\n",
    "churn_df.head()"
   ]
  },
  {
   "cell_type": "code",
   "execution_count": null,
   "id": "1cabfe24-2e5b-492a-b8ec-a13aea62bba8",
   "metadata": {},
   "outputs": [],
   "source": [
    "print(precision_recall_fscore_support(y_test,y_pred_knn,average='weighted'))\n",
    "print(classification_report(y_test,y_pred_knn))"
   ]
  },
  {
   "cell_type": "code",
   "execution_count": null,
   "id": "b41ed0b8-4568-4eba-80c4-f5ebcd54339d",
   "metadata": {},
   "outputs": [],
   "source": []
  },
  {
   "cell_type": "markdown",
   "id": "181f3fcf-3117-454b-a7c9-06ff4e50282a",
   "metadata": {},
   "source": [
    "The modeld used is the **K Nearest Neighbor** Model which has an average model F1 Score of 90% and model accuracy of 90% "
   ]
  },
  {
   "cell_type": "markdown",
   "id": "1dcc4bd9-b16d-4d12-af1f-09b0ffa09203",
   "metadata": {},
   "source": [
    "|Date Created | Author|\n",
    "|-|-|\n",
    "|14/10/2023|Abiodun I Olorunsogo|"
   ]
  },
  {
   "cell_type": "code",
   "execution_count": null,
   "id": "c9b22d7c-d9b6-4c93-8126-d8de0bbbf3fd",
   "metadata": {},
   "outputs": [],
   "source": []
  }
 ],
 "metadata": {
  "kernelspec": {
   "display_name": "Python 3 (ipykernel)",
   "language": "python",
   "name": "python3"
  },
  "language_info": {
   "codemirror_mode": {
    "name": "ipython",
    "version": 3
   },
   "file_extension": ".py",
   "mimetype": "text/x-python",
   "name": "python",
   "nbconvert_exporter": "python",
   "pygments_lexer": "ipython3",
   "version": "3.8.6"
  }
 },
 "nbformat": 4,
 "nbformat_minor": 5
}
