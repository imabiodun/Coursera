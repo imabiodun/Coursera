{
 "cells": [
  {
   "cell_type": "code",
   "execution_count": 15,
   "id": "620a126a",
   "metadata": {},
   "outputs": [],
   "source": [
    "import pandas as pd\n",
    "import numpy as np\n",
    "import dash"
   ]
  },
  {
   "cell_type": "code",
   "execution_count": 13,
   "id": "65ec4083",
   "metadata": {},
   "outputs": [],
   "source": [
    "from dash import dash,dcc, html,dependencies,Input,Output"
   ]
  },
  {
   "cell_type": "code",
   "execution_count": 14,
   "id": "dcadb716",
   "metadata": {},
   "outputs": [],
   "source": [
    "import plotly.express as px"
   ]
  },
  {
   "cell_type": "code",
   "execution_count": 5,
   "id": "ced47a9c",
   "metadata": {},
   "outputs": [],
   "source": [
    "app=dash.Dash()"
   ]
  },
  {
   "cell_type": "code",
   "execution_count": 6,
   "id": "09d4b918",
   "metadata": {},
   "outputs": [],
   "source": [
    "app.layout=html.Div(html.Div(\n",
    "                            children='Automobile'),\n",
    "                            style={'text-align':'center'})"
   ]
  },
  {
   "cell_type": "code",
   "execution_count": 7,
   "id": "9484e758",
   "metadata": {},
   "outputs": [],
   "source": [
    "# if __name__=='__main__':\n",
    "#     app.run_server()"
   ]
  },
  {
   "cell_type": "code",
   "execution_count": 8,
   "id": "963c995b",
   "metadata": {},
   "outputs": [
    {
     "data": {
      "text/plain": [
       "Dropdown(options=[{'label': 'New York City', 'value': 'NYC'}, {'label': 'Montreal', 'value': 'MTL'}, {'label': 'San Fransisco', 'value': 'SF'}], value='NYC')"
      ]
     },
     "execution_count": 8,
     "metadata": {},
     "output_type": "execute_result"
    }
   ],
   "source": [
    "dcc.Dropdown(options=[\n",
    "            {'label':'Drive=wheels','value':'NYC'},\n",
    "            {'label':'Body-style':'MTL'},\n",
    "            {'label':'San Fransisco','value':'SF'}],value='NYC')"
   ]
  },
  {
   "cell_type": "code",
   "execution_count": null,
   "id": "92d74f16",
   "metadata": {},
   "outputs": [],
   "source": []
  },
  {
   "cell_type": "code",
   "execution_count": 9,
   "id": "8e68e372",
   "metadata": {},
   "outputs": [],
   "source": [
    "card=pd.DataFrame({'Fruits':['Apples','Oranges','Bananas','Apples','Oranges','Bananas'],\n",
    "              'Amount':[4,1,2,2,4,5],\n",
    "             'Values':['SF','SF','SF','NY','MTL','SF']})"
   ]
  },
  {
   "cell_type": "code",
   "execution_count": 10,
   "id": "ef412558",
   "metadata": {
    "scrolled": true
   },
   "outputs": [],
   "source": [
    "fig=px.bar(card,x='Fruits',y='Amount',text='Values', barmode='group',color='Values')"
   ]
  },
  {
   "cell_type": "code",
   "execution_count": 11,
   "id": "bcd335bb",
   "metadata": {},
   "outputs": [
    {
     "data": {
      "text/plain": [
       "Graph(id='example-graph-2', figure=Figure({\n",
       "    'data': [{'alignmentgroup': 'True',\n",
       "              'hovertemplate': 'Values=%{text}<br>Fruits=%{x}<br>Amount=%{y}<extra></extra>',\n",
       "              'legendgroup': 'SF',\n",
       "              'marker': {'color': '#636efa', 'pattern': {'shape': ''}},\n",
       "              'name': 'SF',\n",
       "              'offsetgroup': 'SF',\n",
       "              'orientation': 'v',\n",
       "              'showlegend': True,\n",
       "              'text': array(['SF', 'SF', 'SF', 'SF'], dtype=object),\n",
       "              'textposition': 'auto',\n",
       "              'type': 'bar',\n",
       "              'x': array(['Apples', 'Oranges', 'Bananas', 'Bananas'], dtype=object),\n",
       "              'xaxis': 'x',\n",
       "              'y': array([4, 1, 2, 5], dtype=int64),\n",
       "              'yaxis': 'y'},\n",
       "             {'alignmentgroup': 'True',\n",
       "              'hovertemplate': 'Values=%{text}<br>Fruits=%{x}<br>Amount=%{y}<extra></extra>',\n",
       "              'legendgroup': 'NY',\n",
       "              'marker': {'color': '#EF553B', 'pattern': {'shape': ''}},\n",
       "              'name': 'NY',\n",
       "              'offsetgroup': 'NY',\n",
       "              'orientation': 'v',\n",
       "              'showlegend': True,\n",
       "              'text': array(['NY'], dtype=object),\n",
       "              'textposition': 'auto',\n",
       "              'type': 'bar',\n",
       "              'x': array(['Apples'], dtype=object),\n",
       "              'xaxis': 'x',\n",
       "              'y': array([2], dtype=int64),\n",
       "              'yaxis': 'y'},\n",
       "             {'alignmentgroup': 'True',\n",
       "              'hovertemplate': 'Values=%{text}<br>Fruits=%{x}<br>Amount=%{y}<extra></extra>',\n",
       "              'legendgroup': 'MTL',\n",
       "              'marker': {'color': '#00cc96', 'pattern': {'shape': ''}},\n",
       "              'name': 'MTL',\n",
       "              'offsetgroup': 'MTL',\n",
       "              'orientation': 'v',\n",
       "              'showlegend': True,\n",
       "              'text': array(['MTL'], dtype=object),\n",
       "              'textposition': 'auto',\n",
       "              'type': 'bar',\n",
       "              'x': array(['Oranges'], dtype=object),\n",
       "              'xaxis': 'x',\n",
       "              'y': array([4], dtype=int64),\n",
       "              'yaxis': 'y'}],\n",
       "    'layout': {'barmode': 'group',\n",
       "               'legend': {'title': {'text': 'Values'}, 'tracegroupgap': 0},\n",
       "               'margin': {'t': 60},\n",
       "               'template': '...',\n",
       "               'xaxis': {'anchor': 'y', 'domain': [0.0, 1.0], 'title': {'text': 'Fruits'}},\n",
       "               'yaxis': {'anchor': 'x', 'domain': [0.0, 1.0], 'title': {'text': 'Amount'}}}\n",
       "}))"
      ]
     },
     "execution_count": 11,
     "metadata": {},
     "output_type": "execute_result"
    }
   ],
   "source": [
    "# Bar graph\n",
    "dcc.Graph(id='example-graph-2',figure=fig)"
   ]
  },
  {
   "cell_type": "code",
   "execution_count": 12,
   "id": "42a819d2",
   "metadata": {},
   "outputs": [
    {
     "data": {
      "text/html": [
       "\n",
       "        <iframe\n",
       "            width=\"100%\"\n",
       "            height=\"650\"\n",
       "            src=\"http://127.0.0.1:8050/\"\n",
       "            frameborder=\"0\"\n",
       "            allowfullscreen\n",
       "            \n",
       "        ></iframe>\n",
       "        "
      ],
      "text/plain": [
       "<IPython.lib.display.IFrame at 0xc8c80d0>"
      ]
     },
     "metadata": {},
     "output_type": "display_data"
    }
   ],
   "source": [
    "if __name__=='__main__':\n",
    "    app.run_server()"
   ]
  },
  {
   "cell_type": "code",
   "execution_count": null,
   "id": "6e7acc12",
   "metadata": {},
   "outputs": [],
   "source": []
  }
 ],
 "metadata": {
  "kernelspec": {
   "display_name": "Python 3 (ipykernel)",
   "language": "python",
   "name": "python3"
  },
  "language_info": {
   "codemirror_mode": {
    "name": "ipython",
    "version": 3
   },
   "file_extension": ".py",
   "mimetype": "text/x-python",
   "name": "python",
   "nbconvert_exporter": "python",
   "pygments_lexer": "ipython3",
   "version": "3.8.6"
  }
 },
 "nbformat": 4,
 "nbformat_minor": 5
}
