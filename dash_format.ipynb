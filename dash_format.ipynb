{
 "cells": [
  {
   "cell_type": "code",
   "execution_count": null,
   "id": "d45a5b19",
   "metadata": {},
   "outputs": [],
   "source": []
  },
  {
   "cell_type": "code",
   "execution_count": 32,
   "id": "e5c59e77",
   "metadata": {},
   "outputs": [],
   "source": [
    "import pandas as pd\n",
    "import numpy as np\n",
    "# import dash"
   ]
  },
  {
   "cell_type": "code",
   "execution_count": 33,
   "id": "9740f5eb",
   "metadata": {},
   "outputs": [],
   "source": [
    "from dash import dash,dcc, html,dependencies,Input,Output"
   ]
  },
  {
   "cell_type": "code",
   "execution_count": 110,
   "id": "683ee585",
   "metadata": {},
   "outputs": [],
   "source": [
    "import plotly.express as px"
   ]
  },
  {
   "cell_type": "code",
   "execution_count": 258,
   "id": "11eeb83b",
   "metadata": {},
   "outputs": [],
   "source": [
    "import folium"
   ]
  },
  {
   "cell_type": "code",
   "execution_count": 254,
   "id": "a5b378b9",
   "metadata": {},
   "outputs": [],
   "source": [
    "app=dash.Dash(__name__)"
   ]
  },
  {
   "cell_type": "code",
   "execution_count": 252,
   "id": "6ae67bc0",
   "metadata": {},
   "outputs": [],
   "source": []
  },
  {
   "cell_type": "code",
   "execution_count": 253,
   "id": "176aae10",
   "metadata": {},
   "outputs": [],
   "source": [
    "drop__=dcc.Dropdown(options=[\n",
    "            {'label':'New York City','value':'NYC'},\n",
    "            {'label':'Montreal', 'value':'MTL'},\n",
    "            {'label':'San Fransisco','value':'SF'},\n",
    "            {'label':'Abuja','value':'ABJ'},\n",
    "            {'label':'Lagos','value':'LOS'}],value='NYC')\n",
    "drop___=dcc.Dropdown(options=[\n",
    "            {'label':'New York City','value':'NYC'},\n",
    "            {'label':'Montreal', 'value':'MTL'},\n",
    "            {'label':'San Fransisco','value':'SF'},\n",
    "            {'label':'Abuja','value':'ABJ'},\n",
    "            {'label':'Lagos','value':'LOS'}],value='LOS')\n",
    "# dcc.Input(placeholder='Abuja', id='to_board',style={'border': '8px green 2px'})\n",
    "app.layout=html.Div(\n",
    "    children=\n",
    "    [html.H1('Airline Dashboard',\n",
    "                 style={'textAlign':'center','textSize':'20px'}),\n",
    "    html.Hr(style={'color':'#fff'}),\n",
    "    html.Br(),\n",
    "    html.H3('Prepare to get On board',\n",
    "            style={'textAlign':'center','textSize':'20px'}),\n",
    "    html.Br(),\n",
    "    html.P('Please Fill in the boxes below '),\n",
    "    html.Div(['From:   ',drop___]),\n",
    "    html.Div(['Destination:   ',drop__]),\n",
    "    html.Div([dcc.Graph(id='scatter-plot',style={'textAlign':'center'})]),\n",
    "    html.Br(),\n",
    "    html.Br(),\n",
    "    html.Hr()],\n",
    "    id='head_of_site')\n",
    "\n",
    "\n",
    "if __name__=='__main__':\n",
    "    app.run_server(debug=True)\n",
    "    \n",
    "    \n",
    "    \n",
    "# @gap.callback(Output(),Input())\n",
    "def get_the_grap(boarding,destination):\n",
    "    df_boarding=airline_flight[airline_flight['boarding']==str(boarding)]\n",
    "    df_destination=airline_flight[airline_flight['destination']==str(destination)]\n",
    "    # to find the diffference between the boarding and the landing destination\n",
    "    line_=abs(df_boarding-df_destination)\n"
   ]
  },
  {
   "cell_type": "code",
   "execution_count": 255,
   "id": "977d03be",
   "metadata": {},
   "outputs": [],
   "source": []
  },
  {
   "cell_type": "code",
   "execution_count": 19,
   "id": "77059b1c",
   "metadata": {},
   "outputs": [],
   "source": [
    "card=pd.DataFrame({'Fruits':['Apples','Oranges','Bananas','Apples','Oranges','Bananas'],\n",
    "              'Amount':[4,1,2,2,4,5],\n",
    "             'Values':['SF','SF','SF','NY','MTL','SF']})"
   ]
  },
  {
   "cell_type": "code",
   "execution_count": 20,
   "id": "1ed88b12",
   "metadata": {
    "scrolled": true
   },
   "outputs": [],
   "source": [
    "fig=px.bar(card,x='Fruits',y='Amount',text='Values', barmode='group',color='Values')"
   ]
  },
  {
   "cell_type": "code",
   "execution_count": 21,
   "id": "f8c7ff10",
   "metadata": {},
   "outputs": [
    {
     "data": {
      "text/plain": [
       "Graph(id='example-graph-2', figure=Figure({\n",
       "    'data': [{'alignmentgroup': 'True',\n",
       "              'hovertemplate': 'Values=%{text}<br>Fruits=%{x}<br>Amount=%{y}<extra></extra>',\n",
       "              'legendgroup': 'SF',\n",
       "              'marker': {'color': '#636efa', 'pattern': {'shape': ''}},\n",
       "              'name': 'SF',\n",
       "              'offsetgroup': 'SF',\n",
       "              'orientation': 'v',\n",
       "              'showlegend': True,\n",
       "              'text': array(['SF', 'SF', 'SF', 'SF'], dtype=object),\n",
       "              'textposition': 'auto',\n",
       "              'type': 'bar',\n",
       "              'x': array(['Apples', 'Oranges', 'Bananas', 'Bananas'], dtype=object),\n",
       "              'xaxis': 'x',\n",
       "              'y': array([4, 1, 2, 5], dtype=int64),\n",
       "              'yaxis': 'y'},\n",
       "             {'alignmentgroup': 'True',\n",
       "              'hovertemplate': 'Values=%{text}<br>Fruits=%{x}<br>Amount=%{y}<extra></extra>',\n",
       "              'legendgroup': 'NY',\n",
       "              'marker': {'color': '#EF553B', 'pattern': {'shape': ''}},\n",
       "              'name': 'NY',\n",
       "              'offsetgroup': 'NY',\n",
       "              'orientation': 'v',\n",
       "              'showlegend': True,\n",
       "              'text': array(['NY'], dtype=object),\n",
       "              'textposition': 'auto',\n",
       "              'type': 'bar',\n",
       "              'x': array(['Apples'], dtype=object),\n",
       "              'xaxis': 'x',\n",
       "              'y': array([2], dtype=int64),\n",
       "              'yaxis': 'y'},\n",
       "             {'alignmentgroup': 'True',\n",
       "              'hovertemplate': 'Values=%{text}<br>Fruits=%{x}<br>Amount=%{y}<extra></extra>',\n",
       "              'legendgroup': 'MTL',\n",
       "              'marker': {'color': '#00cc96', 'pattern': {'shape': ''}},\n",
       "              'name': 'MTL',\n",
       "              'offsetgroup': 'MTL',\n",
       "              'orientation': 'v',\n",
       "              'showlegend': True,\n",
       "              'text': array(['MTL'], dtype=object),\n",
       "              'textposition': 'auto',\n",
       "              'type': 'bar',\n",
       "              'x': array(['Oranges'], dtype=object),\n",
       "              'xaxis': 'x',\n",
       "              'y': array([4], dtype=int64),\n",
       "              'yaxis': 'y'}],\n",
       "    'layout': {'barmode': 'group',\n",
       "               'legend': {'title': {'text': 'Values'}, 'tracegroupgap': 0},\n",
       "               'margin': {'t': 60},\n",
       "               'template': '...',\n",
       "               'xaxis': {'anchor': 'y', 'domain': [0.0, 1.0], 'title': {'text': 'Fruits'}},\n",
       "               'yaxis': {'anchor': 'x', 'domain': [0.0, 1.0], 'title': {'text': 'Amount'}}}\n",
       "}))"
      ]
     },
     "execution_count": 21,
     "metadata": {},
     "output_type": "execute_result"
    }
   ],
   "source": [
    "# Bar graph\n",
    "dcc.Graph(id='example-graph-2',figure=fig)"
   ]
  },
  {
   "cell_type": "code",
   "execution_count": 22,
   "id": "133bb0bb",
   "metadata": {},
   "outputs": [
    {
     "name": "stderr",
     "output_type": "stream",
     "text": [
      "[2023-07-29 01:34:05,773] ERROR in app: Exception on /_alive_21bbcb70-3ff2-4b65-9ad8-6a5f45eeedf6 [GET]\n",
      "Traceback (most recent call last):\n",
      "  File \"c:\\users\\amos oshiyoye\\appdata\\local\\programs\\python\\python38\\lib\\site-packages\\flask\\app.py\", line 2529, in wsgi_app\n",
      "    response = self.full_dispatch_request()\n",
      "  File \"c:\\users\\amos oshiyoye\\appdata\\local\\programs\\python\\python38\\lib\\site-packages\\flask\\app.py\", line 1825, in full_dispatch_request\n",
      "    rv = self.handle_user_exception(e)\n",
      "  File \"c:\\users\\amos oshiyoye\\appdata\\local\\programs\\python\\python38\\lib\\site-packages\\flask\\app.py\", line 1821, in full_dispatch_request\n",
      "    rv = self.preprocess_request()\n",
      "  File \"c:\\users\\amos oshiyoye\\appdata\\local\\programs\\python\\python38\\lib\\site-packages\\flask\\app.py\", line 2313, in preprocess_request\n",
      "    rv = self.ensure_sync(before_func)()\n",
      "  File \"c:\\users\\amos oshiyoye\\appdata\\local\\programs\\python\\python38\\lib\\site-packages\\dash\\dash.py\", line 1298, in _setup_server\n",
      "    _validate.validate_layout(self.layout, self._layout_value())\n",
      "  File \"c:\\users\\amos oshiyoye\\appdata\\local\\programs\\python\\python38\\lib\\site-packages\\dash\\_validate.py\", line 402, in validate_layout\n",
      "    raise exceptions.NoLayoutException(\n",
      "dash.exceptions.NoLayoutException: The layout was `None` at the time that `run_server` was called.\n",
      "Make sure to set the `layout` attribute of your application\n",
      "before running the server.\n"
     ]
    },
    {
     "data": {
      "text/html": [
       "\n",
       "        <iframe\n",
       "            width=\"100%\"\n",
       "            height=\"650\"\n",
       "            src=\"http://127.0.0.1:8050/\"\n",
       "            frameborder=\"0\"\n",
       "            allowfullscreen\n",
       "            \n",
       "        ></iframe>\n",
       "        "
      ],
      "text/plain": [
       "<IPython.lib.display.IFrame at 0xe384d90>"
      ]
     },
     "metadata": {},
     "output_type": "display_data"
    }
   ],
   "source": [
    "if __name__=='__main__':\n",
    "    app.run_server()"
   ]
  },
  {
   "cell_type": "code",
   "execution_count": null,
   "id": "bbbf3d7a",
   "metadata": {},
   "outputs": [],
   "source": []
  },
  {
   "cell_type": "code",
   "execution_count": null,
   "id": "892acc8e",
   "metadata": {},
   "outputs": [],
   "source": []
  }
 ],
 "metadata": {
  "kernelspec": {
   "display_name": "Python 3 (ipykernel)",
   "language": "python",
   "name": "python3"
  },
  "language_info": {
   "codemirror_mode": {
    "name": "ipython",
    "version": 3
   },
   "file_extension": ".py",
   "mimetype": "text/x-python",
   "name": "python",
   "nbconvert_exporter": "python",
   "pygments_lexer": "ipython3",
   "version": "3.8.6"
  }
 },
 "nbformat": 4,
 "nbformat_minor": 5
}
