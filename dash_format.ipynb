{
 "cells": [
  {
   "cell_type": "markdown",
   "id": "83aefb22",
   "metadata": {},
   "source": [
    "### Dash dashing..."
   ]
  },
  {
   "cell_type": "code",
   "execution_count": null,
   "id": "e5c59e77",
   "metadata": {},
   "outputs": [],
   "source": [
    "import pandas as pd\n",
    "import numpy as np\n",
    "# import dash"
   ]
  },
  {
   "cell_type": "code",
   "execution_count": null,
   "id": "9740f5eb",
   "metadata": {},
   "outputs": [],
   "source": [
    "from dash import dash,dcc, html,dependencies,Input,Output,callback"
   ]
  },
  {
   "cell_type": "code",
   "execution_count": null,
   "id": "683ee585",
   "metadata": {},
   "outputs": [],
   "source": [
    "import plotly.express as px"
   ]
  },
  {
   "cell_type": "code",
   "execution_count": null,
   "id": "29353fb4",
   "metadata": {},
   "outputs": [],
   "source": [
    "import plotly.graph_objects as go"
   ]
  },
  {
   "cell_type": "code",
   "execution_count": null,
   "id": "11eeb83b",
   "metadata": {},
   "outputs": [],
   "source": [
    "# import folium"
   ]
  },
  {
   "cell_type": "code",
   "execution_count": null,
   "id": "a5b378b9",
   "metadata": {},
   "outputs": [],
   "source": [
    "app=dash.Dash(__name__)"
   ]
  },
  {
   "cell_type": "code",
   "execution_count": null,
   "id": "996c458c",
   "metadata": {},
   "outputs": [],
   "source": [
    "drop__=dcc.Dropdown(options=[\n",
    "            {'label':'New York City','value':'NYC'},\n",
    "            {'label':'Montreal', 'value':'MTL'},\n",
    "            {'label':'San Fransisco','value':'SF'},\n",
    "            {'label':'Abuja','value':'ABJ'},\n",
    "            {'label':'Lagos','value':'LOS'}],value='NYC',id='boarding')\n",
    "drop___=dcc.Dropdown(options=[\n",
    "            {'label':'New York City','value':'NYC'},\n",
    "            {'label':'Montreal', 'value':'MTL'},\n",
    "            {'label':'San Fransisco','value':'SF'},\n",
    "            {'label':'Abuja','value':'ABJ'},\n",
    "            {'label':'Lagos','value':'LOS'}],value='LOS',id='landing')"
   ]
  },
  {
   "cell_type": "code",
   "execution_count": null,
   "id": "577dbd4e",
   "metadata": {},
   "outputs": [],
   "source": [
    "# dcc.Input(placeholder='Abuja', id='to_board',style={'border': '8px green 2px'})\n",
    "app.layout=html.Div(\n",
    "    children=\n",
    "    [html.H1('Airline Dashboard',\n",
    "                 style={'textAlign':'center','textSize':'20px'}),\n",
    "    html.Hr(style={'color':'#fff'}),\n",
    "    html.Br(),\n",
    "    html.H3('Prepare to get On board',\n",
    "            style={'textAlign':'center','textSize':'20px'}),\n",
    "    html.Br(),\n",
    "    html.P('Please Fill in the boxes below '),\n",
    "    html.Div(['From:   ',drop___,]),\n",
    "    html.Div(['Destination:   ',drop__]),\n",
    "    html.Div([dcc.Graph(id='bar-plot',style={'textAlign':'center'})]),\n",
    "    html.Br(),\n",
    "    html.Br(),\n",
    "    html.Hr()],\n",
    "    id='head_of_site')\n",
    "\n"
   ]
  },
  {
   "cell_type": "code",
   "execution_count": null,
   "id": "c2badf1b",
   "metadata": {},
   "outputs": [],
   "source": [
    "# pif=go.Figure()\n",
    "# pif.add_traces(go.b)"
   ]
  },
  {
   "cell_type": "code",
   "execution_count": null,
   "id": "176aae10",
   "metadata": {},
   "outputs": [],
   "source": [
    "@app.callback(Output(component_id='bar-plot',component_property='figure'),\n",
    "              [Input(component_id='boarding', component_property='value'),\n",
    "              Input(component_id='landing', component_property='value')])\n",
    "def get_graph(boarding,destination):\n",
    "    df_boarding=airline_flight[airline_flight['boarding']==str(boarding)]\n",
    "    df_destination=airline_flight[airline_flight['destination']==str(destination)]\n",
    "    # to find the diffference between the boarding and the landing destination\n",
    "    line_=abs(df_boarding-df_destination)\n",
    "    fig =go.Figure(go.bar(airline_flight(x='boarding',y='destination',mode='line')))\n",
    "    fig.update_layout(title='Distance between Landing and Takeoff point')\n",
    "    return fig\n"
   ]
  },
  {
   "cell_type": "code",
   "execution_count": null,
   "id": "f2ae93e1",
   "metadata": {},
   "outputs": [],
   "source": [
    "if __name__=='__main__':\n",
    "    app.run_server(port=8090, host= '127.0.0.5',debug=True) "
   ]
  }
 ],
 "metadata": {
  "kernelspec": {
   "display_name": "Python 3 (ipykernel)",
   "language": "python",
   "name": "python3"
  },
  "language_info": {
   "codemirror_mode": {
    "name": "ipython",
    "version": 3
   },
   "file_extension": ".py",
   "mimetype": "text/x-python",
   "name": "python",
   "nbconvert_exporter": "python",
   "pygments_lexer": "ipython3",
   "version": "3.8.6"
  }
 },
 "nbformat": 4,
 "nbformat_minor": 5
}
